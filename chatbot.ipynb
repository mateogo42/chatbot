{
 "cells": [
  {
   "cell_type": "code",
   "execution_count": 1,
   "metadata": {},
   "outputs": [],
   "source": [
    "from model import Chatbot, Encoder, Decoder\n",
    "import tensorflow as tf\n",
    "from tensorflow.keras.preprocessing.text import Tokenizer\n",
    "from tensorflow.keras.preprocessing.sequence import pad_sequences\n",
    "from tensorflow.keras.utils import to_categorical\n",
    "from pathlib import Path\n",
    "from unidecode import unidecode\n",
    "import numpy as np\n",
    "import pickle"
   ]
  },
  {
   "cell_type": "code",
   "execution_count": 2,
   "metadata": {},
   "outputs": [
    {
     "name": "stdout",
     "output_type": "stream",
     "text": [
      "El archivo 'preguntas.txt' contiene 273 preguntas\n"
     ]
    }
   ],
   "source": [
    "data_dir = Path('data')\n",
    "\n",
    "with open(data_dir/'preguntas.txt', 'r', encoding='utf-8') as f:\n",
    "    questions = f.readlines()\n",
    "\n",
    "with open(data_dir/'respuestas.txt', 'r', encoding='utf-8') as f:\n",
    "    answers = f.readlines()\n",
    "\n",
    "print(f\"El archivo 'preguntas.txt' contiene {len(questions)} preguntas\")"
   ]
  },
  {
   "cell_type": "code",
   "execution_count": 3,
   "metadata": {},
   "outputs": [
    {
     "name": "stdout",
     "output_type": "stream",
     "text": [
      "<START> \"rosebud\" <END>\n"
     ]
    }
   ],
   "source": [
    "START_TOKEN = '<START> '\n",
    "END_TOKEN = ' <END>'\n",
    "\n",
    "processed_questions = list(map(lambda x: unidecode(x.lower()), questions))\n",
    "processed_answers = list(map(lambda x: START_TOKEN + unidecode(x.lower().strip()) + END_TOKEN, answers))\n",
    "\n",
    "print(processed_answers[0])"
   ]
  },
  {
   "cell_type": "code",
   "execution_count": 4,
   "metadata": {},
   "outputs": [
    {
     "name": "stdout",
     "output_type": "stream",
     "text": [
      "There are 1725 unique words\n"
     ]
    }
   ],
   "source": [
    "tokenizer = Tokenizer()\n",
    "tokenizer.fit_on_texts(processed_questions + processed_answers)\n",
    "vocab_size = len(tokenizer.word_index)\n",
    "\n",
    "print(f\"There are {vocab_size} unique words\")"
   ]
  },
  {
   "cell_type": "code",
   "execution_count": 5,
   "metadata": {},
   "outputs": [
    {
     "name": "stdout",
     "output_type": "stream",
     "text": [
      "Encoder input data shape: (273, 31)\n",
      "Decoder input data shape: (273, 31)\n",
      "Decoder target data shape: (273, 31, 1726)\n"
     ]
    }
   ],
   "source": [
    "# Preparing Encoder Input\n",
    "tokenized_questions = tokenizer.texts_to_sequences(processed_questions)\n",
    "max_input_length = max(list(map(len, tokenizer.texts_to_sequences(processed_questions))))\n",
    "encoder_input = np.array(pad_sequences(tokenized_questions, maxlen=max_input_length, padding='post'))\n",
    "print(f\"Encoder input data shape: {encoder_input.shape}\")\n",
    "\n",
    "# Preparing Decoder Input\n",
    "tokenized_answers = tokenizer.texts_to_sequences(processed_answers)\n",
    "max_output_length = max(list(map(len, tokenizer.texts_to_sequences(processed_answers))))\n",
    "decoder_input = np.array(pad_sequences(tokenized_answers, maxlen=max_input_length, padding='post'))\n",
    "print(f\"Decoder input data shape: {decoder_input.shape}\")\n",
    "\n",
    "# Preparing Target Output\n",
    "tokenized_output = list(map(lambda x: x[1:], tokenized_answers))\n",
    "padded_target = pad_sequences(tokenized_output, maxlen=max_input_length, padding='post')\n",
    "decoder_target = np.array(to_categorical(padded_target))\n",
    "print(f\"Decoder target data shape: {decoder_target.shape}\")\n",
    "\n",
    "with open(data_dir/'tokenizer.pkl', 'wb') as f:\n",
    "    pickle.dump({\n",
    "        'tokenizer': tokenizer,\n",
    "        'vocab_size': vocab_size,\n",
    "        'max_input_length': max_input_length,\n",
    "        'max_output_length': max_output_length,\n",
    "        'model_bootstrap': (encoder_input[:1], decoder_input[:1], decoder_target[:1])   \n",
    "    }, f, protocol=pickle.DEFAULT_PROTOCOL)"
   ]
  },
  {
   "cell_type": "code",
   "execution_count": 6,
   "metadata": {},
   "outputs": [
    {
     "name": "stdout",
     "output_type": "stream",
     "text": [
      "Epoch 1/100\n",
      "28/28 [==============================] - 1s 19ms/step - loss: 1.7571 - accuracy: 0.1644\n",
      "Epoch 2/100\n",
      "28/28 [==============================] - 1s 19ms/step - loss: 1.4012 - accuracy: 0.2011 0s - loss: 1.4524 - \n",
      "Epoch 3/100\n",
      "28/28 [==============================] - 1s 20ms/step - loss: 1.2828 - accuracy: 0.2337\n",
      "Epoch 4/100\n",
      "28/28 [==============================] - 1s 20ms/step - loss: 1.2369 - accuracy: 0.2529\n",
      "Epoch 5/100\n",
      "28/28 [==============================] - 1s 21ms/step - loss: 1.1930 - accuracy: 0.2650\n",
      "Epoch 6/100\n",
      "28/28 [==============================] - 1s 20ms/step - loss: 1.1320 - accuracy: 0.2708\n",
      "Epoch 7/100\n",
      "28/28 [==============================] - 1s 19ms/step - loss: 1.0851 - accuracy: 0.2873\n",
      "Epoch 8/100\n",
      "28/28 [==============================] - 1s 20ms/step - loss: 1.0424 - accuracy: 0.3003\n",
      "Epoch 9/100\n",
      "28/28 [==============================] - 1s 20ms/step - loss: 1.0007 - accuracy: 0.3320\n",
      "Epoch 10/100\n",
      "28/28 [==============================] - 1s 19ms/step - loss: 0.9583 - accuracy: 0.3414\n",
      "Epoch 11/100\n",
      "28/28 [==============================] - 1s 19ms/step - loss: 0.9225 - accuracy: 0.3503\n",
      "Epoch 12/100\n",
      "28/28 [==============================] - 1s 20ms/step - loss: 0.8842 - accuracy: 0.3731\n",
      "Epoch 13/100\n",
      "28/28 [==============================] - 1s 18ms/step - loss: 0.8493 - accuracy: 0.3780\n",
      "Epoch 14/100\n",
      "28/28 [==============================] - 1s 19ms/step - loss: 0.8163 - accuracy: 0.4021\n",
      "Epoch 15/100\n",
      "28/28 [==============================] - 1s 21ms/step - loss: 0.7829 - accuracy: 0.4048\n",
      "Epoch 16/100\n",
      "28/28 [==============================] - 1s 19ms/step - loss: 0.7496 - accuracy: 0.4214\n",
      "Epoch 17/100\n",
      "28/28 [==============================] - 1s 19ms/step - loss: 0.7189 - accuracy: 0.4424\n",
      "Epoch 18/100\n",
      "28/28 [==============================] - 1s 19ms/step - loss: 0.6888 - accuracy: 0.4625\n",
      "Epoch 19/100\n",
      "28/28 [==============================] - 1s 21ms/step - loss: 0.6577 - accuracy: 0.4835\n",
      "Epoch 20/100\n",
      "28/28 [==============================] - 1s 20ms/step - loss: 0.6253 - accuracy: 0.5076\n",
      "Epoch 21/100\n",
      "28/28 [==============================] - 1s 19ms/step - loss: 0.5927 - accuracy: 0.5344\n",
      "Epoch 22/100\n",
      "28/28 [==============================] - 1s 21ms/step - loss: 0.5632 - accuracy: 0.5514\n",
      "Epoch 23/100\n",
      "28/28 [==============================] - 1s 20ms/step - loss: 0.5337 - accuracy: 0.5777\n",
      "Epoch 24/100\n",
      "28/28 [==============================] - 1s 19ms/step - loss: 0.5051 - accuracy: 0.6046\n",
      "Epoch 25/100\n",
      "28/28 [==============================] - 1s 20ms/step - loss: 0.4768 - accuracy: 0.6381\n",
      "Epoch 26/100\n",
      "28/28 [==============================] - 1s 19ms/step - loss: 0.4477 - accuracy: 0.6707\n",
      "Epoch 27/100\n",
      "28/28 [==============================] - 1s 19ms/step - loss: 0.4208 - accuracy: 0.7122\n",
      "Epoch 28/100\n",
      "28/28 [==============================] - 1s 19ms/step - loss: 0.3934 - accuracy: 0.7319\n",
      "Epoch 29/100\n",
      "28/28 [==============================] - 1s 19ms/step - loss: 0.3700 - accuracy: 0.7583\n",
      "Epoch 30/100\n",
      "28/28 [==============================] - 1s 19ms/step - loss: 0.3450 - accuracy: 0.7806\n",
      "Epoch 31/100\n",
      "28/28 [==============================] - 1s 19ms/step - loss: 0.3191 - accuracy: 0.8029\n",
      "Epoch 32/100\n",
      "28/28 [==============================] - 1s 19ms/step - loss: 0.2982 - accuracy: 0.8275\n",
      "Epoch 33/100\n",
      "28/28 [==============================] - 1s 21ms/step - loss: 0.2775 - accuracy: 0.8463\n",
      "Epoch 34/100\n",
      "28/28 [==============================] - 1s 19ms/step - loss: 0.2567 - accuracy: 0.8615\n",
      "Epoch 35/100\n",
      "28/28 [==============================] - 1s 22ms/step - loss: 0.2369 - accuracy: 0.8780\n",
      "Epoch 36/100\n",
      "28/28 [==============================] - 1s 19ms/step - loss: 0.2206 - accuracy: 0.8807\n",
      "Epoch 37/100\n",
      "28/28 [==============================] - 1s 19ms/step - loss: 0.2054 - accuracy: 0.9008\n",
      "Epoch 38/100\n",
      "28/28 [==============================] - 1s 19ms/step - loss: 0.1930 - accuracy: 0.9048\n",
      "Epoch 39/100\n",
      "28/28 [==============================] - 1s 19ms/step - loss: 0.1768 - accuracy: 0.9191\n",
      "Epoch 40/100\n",
      "28/28 [==============================] - 1s 19ms/step - loss: 0.1679 - accuracy: 0.9227\n",
      "Epoch 41/100\n",
      "28/28 [==============================] - 1s 20ms/step - loss: 0.1521 - accuracy: 0.9339\n",
      "Epoch 42/100\n",
      "28/28 [==============================] - 1s 20ms/step - loss: 0.1398 - accuracy: 0.9450\n",
      "Epoch 43/100\n",
      "28/28 [==============================] - 1s 19ms/step - loss: 0.1301 - accuracy: 0.9535\n",
      "Epoch 44/100\n",
      "28/28 [==============================] - 1s 19ms/step - loss: 0.1196 - accuracy: 0.9607\n",
      "Epoch 45/100\n",
      "28/28 [==============================] - 1s 19ms/step - loss: 0.1114 - accuracy: 0.9607\n",
      "Epoch 46/100\n",
      "28/28 [==============================] - 1s 21ms/step - loss: 0.1041 - accuracy: 0.9692\n",
      "Epoch 47/100\n",
      "28/28 [==============================] - 1s 20ms/step - loss: 0.0971 - accuracy: 0.9732\n",
      "Epoch 48/100\n",
      "28/28 [==============================] - 1s 19ms/step - loss: 0.0898 - accuracy: 0.9808\n",
      "Epoch 49/100\n",
      "28/28 [==============================] - 1s 20ms/step - loss: 0.0837 - accuracy: 0.9794\n",
      "Epoch 50/100\n",
      "28/28 [==============================] - 1s 19ms/step - loss: 0.0781 - accuracy: 0.9826\n",
      "Epoch 51/100\n",
      "28/28 [==============================] - 1s 20ms/step - loss: 0.0728 - accuracy: 0.9875\n",
      "Epoch 52/100\n",
      "28/28 [==============================] - 1s 21ms/step - loss: 0.0696 - accuracy: 0.9830\n",
      "Epoch 53/100\n",
      "28/28 [==============================] - 1s 19ms/step - loss: 0.0642 - accuracy: 0.9884\n",
      "Epoch 54/100\n",
      "28/28 [==============================] - 1s 18ms/step - loss: 0.0601 - accuracy: 0.9906\n",
      "Epoch 55/100\n",
      "28/28 [==============================] - 1s 20ms/step - loss: 0.0557 - accuracy: 0.9924\n",
      "Epoch 56/100\n",
      "28/28 [==============================] - 1s 19ms/step - loss: 0.0524 - accuracy: 0.9960\n",
      "Epoch 57/100\n",
      "28/28 [==============================] - 1s 18ms/step - loss: 0.0490 - accuracy: 0.9942\n",
      "Epoch 58/100\n",
      "28/28 [==============================] - 1s 19ms/step - loss: 0.0461 - accuracy: 0.9960\n",
      "Epoch 59/100\n",
      "28/28 [==============================] - 1s 20ms/step - loss: 0.0432 - accuracy: 0.9955\n",
      "Epoch 60/100\n",
      "28/28 [==============================] - 1s 19ms/step - loss: 0.0411 - accuracy: 0.9960\n",
      "Epoch 61/100\n",
      "28/28 [==============================] - 1s 19ms/step - loss: 0.0387 - accuracy: 0.9964\n",
      "Epoch 62/100\n",
      "28/28 [==============================] - 1s 19ms/step - loss: 0.0361 - accuracy: 0.9978\n",
      "Epoch 63/100\n",
      "28/28 [==============================] - 1s 19ms/step - loss: 0.0340 - accuracy: 0.9987\n",
      "Epoch 64/100\n",
      "28/28 [==============================] - 1s 19ms/step - loss: 0.0321 - accuracy: 0.9982\n",
      "Epoch 65/100\n",
      "28/28 [==============================] - 1s 19ms/step - loss: 0.0304 - accuracy: 0.9987\n",
      "Epoch 66/100\n",
      "28/28 [==============================] - 1s 20ms/step - loss: 0.0289 - accuracy: 0.9987\n",
      "Epoch 67/100\n",
      "28/28 [==============================] - 1s 20ms/step - loss: 0.0273 - accuracy: 0.9987\n",
      "Epoch 68/100\n",
      "28/28 [==============================] - 1s 19ms/step - loss: 0.0258 - accuracy: 0.9991\n",
      "Epoch 69/100\n",
      "28/28 [==============================] - 1s 19ms/step - loss: 0.0246 - accuracy: 0.9996\n",
      "Epoch 70/100\n",
      "28/28 [==============================] - 1s 19ms/step - loss: 0.0231 - accuracy: 0.9991\n",
      "Epoch 71/100\n",
      "28/28 [==============================] - 1s 20ms/step - loss: 0.0221 - accuracy: 0.9991\n",
      "Epoch 72/100\n",
      "28/28 [==============================] - 1s 19ms/step - loss: 0.0211 - accuracy: 0.9996\n",
      "Epoch 73/100\n",
      "28/28 [==============================] - 1s 19ms/step - loss: 0.0200 - accuracy: 0.9996\n",
      "Epoch 74/100\n",
      "28/28 [==============================] - 1s 20ms/step - loss: 0.0191 - accuracy: 0.9996\n",
      "Epoch 75/100\n",
      "28/28 [==============================] - 1s 20ms/step - loss: 0.0182 - accuracy: 1.0000\n",
      "Epoch 76/100\n",
      "28/28 [==============================] - 1s 20ms/step - loss: 0.0172 - accuracy: 0.9996\n",
      "Epoch 77/100\n",
      "28/28 [==============================] - 1s 20ms/step - loss: 0.0166 - accuracy: 0.9996\n",
      "Epoch 78/100\n",
      "28/28 [==============================] - 1s 20ms/step - loss: 0.0157 - accuracy: 0.9996\n",
      "Epoch 79/100\n",
      "28/28 [==============================] - 1s 20ms/step - loss: 0.0151 - accuracy: 1.0000\n",
      "Epoch 80/100\n",
      "28/28 [==============================] - 1s 20ms/step - loss: 0.0146 - accuracy: 0.9996\n",
      "Epoch 81/100\n",
      "28/28 [==============================] - 1s 20ms/step - loss: 0.0139 - accuracy: 1.0000\n",
      "Epoch 82/100\n",
      "28/28 [==============================] - 1s 20ms/step - loss: 0.0133 - accuracy: 1.0000\n",
      "Epoch 83/100\n",
      "28/28 [==============================] - 1s 19ms/step - loss: 0.0127 - accuracy: 1.0000\n",
      "Epoch 84/100\n",
      "28/28 [==============================] - 1s 20ms/step - loss: 0.0122 - accuracy: 1.0000\n",
      "Epoch 85/100\n",
      "28/28 [==============================] - 1s 20ms/step - loss: 0.0117 - accuracy: 1.0000\n",
      "Epoch 86/100\n",
      "28/28 [==============================] - 1s 20ms/step - loss: 0.0113 - accuracy: 1.0000\n",
      "Epoch 87/100\n",
      "28/28 [==============================] - 1s 19ms/step - loss: 0.0109 - accuracy: 1.0000\n",
      "Epoch 88/100\n",
      "28/28 [==============================] - 1s 20ms/step - loss: 0.0104 - accuracy: 1.0000\n",
      "Epoch 89/100\n",
      "28/28 [==============================] - 1s 20ms/step - loss: 0.0101 - accuracy: 0.9996\n",
      "Epoch 90/100\n",
      "28/28 [==============================] - 1s 20ms/step - loss: 0.0097 - accuracy: 1.0000\n",
      "Epoch 91/100\n",
      "28/28 [==============================] - 1s 20ms/step - loss: 0.0093 - accuracy: 1.0000\n",
      "Epoch 92/100\n",
      "28/28 [==============================] - 1s 19ms/step - loss: 0.0090 - accuracy: 1.0000\n",
      "Epoch 93/100\n",
      "28/28 [==============================] - 1s 20ms/step - loss: 0.0087 - accuracy: 1.0000\n",
      "Epoch 94/100\n",
      "28/28 [==============================] - 1s 20ms/step - loss: 0.0084 - accuracy: 1.0000\n",
      "Epoch 95/100\n",
      "28/28 [==============================] - 1s 20ms/step - loss: 0.0081 - accuracy: 1.0000\n",
      "Epoch 96/100\n",
      "28/28 [==============================] - 1s 19ms/step - loss: 0.0079 - accuracy: 1.0000\n",
      "Epoch 97/100\n",
      "28/28 [==============================] - 1s 20ms/step - loss: 0.0076 - accuracy: 1.0000\n",
      "Epoch 98/100\n",
      "28/28 [==============================] - 1s 20ms/step - loss: 0.0073 - accuracy: 1.0000\n",
      "Epoch 99/100\n",
      "28/28 [==============================] - 1s 20ms/step - loss: 0.0071 - accuracy: 1.0000\n",
      "Epoch 100/100\n",
      "28/28 [==============================] - 1s 20ms/step - loss: 0.0069 - accuracy: 1.0000\n"
     ]
    },
    {
     "data": {
      "text/plain": [
       "<tensorflow.python.keras.callbacks.History at 0x7f604e7bae10>"
      ]
     },
     "execution_count": 6,
     "metadata": {},
     "output_type": "execute_result"
    }
   ],
   "source": [
    "model = Chatbot(vocab_size + 1)\n",
    "model.compile(optimizer='adam', loss='categorical_crossentropy', metrics=['accuracy'])\n",
    "model.fit([encoder_input, decoder_input], decoder_target, batch_size=10, epochs=100)"
   ]
  },
  {
   "cell_type": "code",
   "execution_count": 7,
   "metadata": {},
   "outputs": [],
   "source": [
    "model.save_weights(Path('model')/'model.hdf5')"
   ]
  },
  {
   "cell_type": "code",
   "execution_count": 8,
   "metadata": {},
   "outputs": [],
   "source": [
    "def preprocess_input(text: str):\n",
    "    text = text.lower()\n",
    "    text = unidecode(text)\n",
    "    tokenized_text = tokenizer.texts_to_sequences([text])\n",
    "    padded_text = pad_sequences(tokenized_text, maxlen=max_input_length, padding='post')\n",
    "\n",
    "    return padded_text"
   ]
  },
  {
   "cell_type": "code",
   "execution_count": 9,
   "metadata": {},
   "outputs": [],
   "source": [
    "#model = Chatbot(vocab_size + 1)\n",
    "#model.compile(optimizer='adam', loss='categorical_crossentropy', metrics=['accuracy'])\n",
    "#model.train_on_batch([encoder_input[:1], decoder_input[:1]], decoder_target[:1])\n",
    "#model.load_weights(Path('model')/'model.hdf5')"
   ]
  },
  {
   "cell_type": "code",
   "execution_count": 19,
   "metadata": {},
   "outputs": [
    {
     "name": "stdout",
     "output_type": "stream",
     "text": [
      "la soga \n"
     ]
    }
   ],
   "source": [
    "question = 'Qué pelicula de Alfred Hitchcock se rodo como si fuera una toma continua'\n",
    "empty_target_seq = np.array([[tokenizer.word_index['start']]])\n",
    "stop_condition = False\n",
    "answer = ''\n",
    "stop_words = ['adios', 'gracias']\n",
    "\n",
    "proc_question = preprocess_input(question)\n",
    "encoder_input = model.embedding(proc_question)\n",
    "h, c = model.encoder.predict([encoder_input])\n",
    "\n",
    "while not stop_condition:\n",
    "    decoder_input = model.embedding(empty_target_seq)\n",
    "    decoder_output, h, c = model.decoder.predict([decoder_input, h, c])\n",
    "    sampled_word_index = np.argmax( decoder_output[0, -1, :] )\n",
    "    sampled_word = tokenizer.index_word.get(sampled_word_index, None)\n",
    "    if sampled_word == 'end' or len(answer.split()) > max_output_length:\n",
    "        stop_condition = True\n",
    "    else:\n",
    "        answer += f\"{sampled_word} \"\n",
    "    \n",
    "\n",
    "    empty_target_seq = np.array([np.append(empty_target_seq[0],sampled_word_index)])\n",
    "    enc_stats = [h, c]\n",
    "\n",
    "\n",
    "print(answer)\n"
   ]
  },
  {
   "cell_type": "code",
   "execution_count": null,
   "metadata": {},
   "outputs": [],
   "source": []
  }
 ],
 "metadata": {
  "kernelspec": {
   "display_name": "Python 3",
   "language": "python",
   "name": "python3"
  },
  "language_info": {
   "codemirror_mode": {
    "name": "ipython",
    "version": 3
   },
   "file_extension": ".py",
   "mimetype": "text/x-python",
   "name": "python",
   "nbconvert_exporter": "python",
   "pygments_lexer": "ipython3",
   "version": "3.7.0"
  }
 },
 "nbformat": 4,
 "nbformat_minor": 4
}
